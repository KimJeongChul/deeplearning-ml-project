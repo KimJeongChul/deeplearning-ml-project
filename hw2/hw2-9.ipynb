{
 "cells": [
  {
   "cell_type": "code",
   "execution_count": 1,
   "metadata": {},
   "outputs": [],
   "source": [
    "import torch\n",
    "import torch.nn as nn\n",
    "import torch.nn.functional as F\n",
    "import torch.optim as optim\n",
    "from torchvision import datasets, transforms\n",
    "from torch.autograd import Variable\n",
    "import matplotlib.pyplot as plt\n",
    "%matplotlib inline"
   ]
  },
  {
   "cell_type": "code",
   "execution_count": 2,
   "metadata": {},
   "outputs": [],
   "source": [
    "transformation = transforms.Compose([transforms.ToTensor(), transforms.Normalize((0.1307, ), (0.3081, ))])"
   ]
  },
  {
   "cell_type": "code",
   "execution_count": 3,
   "metadata": {},
   "outputs": [],
   "source": [
    "train_dataset = datasets.MNIST('data/', train=True, transform=transformation, download=True)\n",
    "test_dataset = datasets.MNIST('data/', train=False, transform=transformation, download=True)"
   ]
  },
  {
   "cell_type": "code",
   "execution_count": 4,
   "metadata": {},
   "outputs": [],
   "source": [
    "train_loader = torch.utils.data.DataLoader(train_dataset, batch_size=32, shuffle=True)\n",
    "test_loader = torch.utils.data.DataLoader(test_dataset, batch_size=32, shuffle=True)"
   ]
  },
  {
   "cell_type": "code",
   "execution_count": 5,
   "metadata": {},
   "outputs": [],
   "source": [
    "sample_data = next(iter(train_loader))"
   ]
  },
  {
   "cell_type": "code",
   "execution_count": 6,
   "metadata": {},
   "outputs": [],
   "source": [
    "def plot_img(image):\n",
    "    image = image.numpy()[0]\n",
    "    mean = 0.1307\n",
    "    std = 0.3081\n",
    "    image = ((mean * image) + std)\n",
    "    plt.imshow(image, cmap='gray')"
   ]
  },
  {
   "cell_type": "code",
   "execution_count": 7,
   "metadata": {},
   "outputs": [
    {
     "data": {
      "image/png": "[encoded data removed]",
      "text/plain": [
       "<Figure size 432x288 with 1 Axes>"
      ]
     },
     "metadata": {
      "needs_background": "light"
     },
     "output_type": "display_data"
    }
   ],
   "source": [
    "plot_img(sample_data[0][2])"
   ]
  },
  {
   "cell_type": "code",
   "execution_count": 8,
   "metadata": {},
   "outputs": [
    {
     "data": {
      "image/png": "[encoded data removed]",
      "text/plain": [
       "<Figure size 432x288 with 1 Axes>"
      ]
     },
     "metadata": {
      "needs_background": "light"
     },
     "output_type": "display_data"
    }
   ],
   "source": [
    "plot_img(sample_data[0][1])"
   ]
  },
  {
   "cell_type": "code",
   "execution_count": 9,
   "metadata": {},
   "outputs": [],
   "source": [
    "class Net(nn.Module):\n",
    "    def __init__(self):\n",
    "        super().__init__()\n",
    "        self.conv1 = nn.Conv2d(1, 10, kernel_size=5)\n",
    "        self.conv2 = nn.Conv2d(10, 20, kernel_size=5)\n",
    "        self.conv2_drop = nn.Dropout2d()\n",
    "        self.fc1 = nn.Linear(320, 50)\n",
    "        self.fc2 = nn.Linear(50, 10)\n",
    "        \n",
    "    def forward(self, x):\n",
    "        x = F.relu(F.max_pool2d(self.conv1(x), 2))\n",
    "        x = F.relu(F.max_pool2d(self.conv2_drop(self.conv2(x)), 2))\n",
    "        x = x.view(-1, 320)\n",
    "        x = F.relu(self.fc1(x))\n",
    "        x = F.dropout(x, p=0.1)\n",
    "        x = self.fc2(x)\n",
    "        return F.log_softmax(x, dim=1)"
   ]
  },
  {
   "cell_type": "code",
   "execution_count": 10,
   "metadata": {},
   "outputs": [],
   "source": [
    "model = Net()"
   ]
  },
  {
   "cell_type": "code",
   "execution_count": 11,
   "metadata": {},
   "outputs": [],
   "source": [
    "optimizer = optim.SGD(model.parameters(), lr=0.01)\n",
    "data, target = next(iter(train_loader))\n",
    "output = model(Variable(data))"
   ]
  },
  {
   "cell_type": "code",
   "execution_count": 12,
   "metadata": {},
   "outputs": [
    {
     "name": "stdout",
     "output_type": "stream",
     "text": [
      "torch.Size([32, 10])\n"
     ]
    }
   ],
   "source": [
    "print(output.size())"
   ]
  },
  {
   "cell_type": "code",
   "execution_count": 13,
   "metadata": {},
   "outputs": [
    {
     "name": "stdout",
     "output_type": "stream",
     "text": [
      "torch.Size([32])\n"
     ]
    }
   ],
   "source": [
    "print(target.size())"
   ]
  },
  {
   "cell_type": "code",
   "execution_count": 14,
   "metadata": {},
   "outputs": [],
   "source": [
    "def fit(epoch,model,data_loader,phase='training',volatile=False):\n",
    "    if phase == 'training':\n",
    "        model.train()\n",
    "    if phase == 'validation':\n",
    "        model.eval()\n",
    "        volatile=True\n",
    "        \n",
    "    running_loss=0.0\n",
    "    running_correct =0\n",
    "    \n",
    "    for batch_idx , (data,target) in enumerate(data_loader):\n",
    "        data , target = Variable(data, volatile), Variable(target)\n",
    "        if phase == 'training':\n",
    "            optimizer.zero_grad()\n",
    "        output = model(data)\n",
    "        loss =F.nll_loss(output,target)\n",
    "        \n",
    "        running_loss += F.nll_loss(output, target, size_average=False).data[0]\n",
    "        preds = output.data.max(dim=1, keepdim=True)[1]\n",
    "        running_correct += preds.eq(target.data.view_as(preds)).cpu().sum()\n",
    "        \n",
    "        if phase =='training':\n",
    "            loss.backward()\n",
    "            optimizer.step()\n",
    "            \n",
    "    loss = running_loss/len(data_loader.dataset)\n",
    "    accuracy = 100 * float(running_correct)/len(data_loader.dataset)\n",
    "    print('{0} loss is {1} and {2} accuracy is {3}/{4} accuarcy is {5}'.format(phase, loss, phase, running_correct, len(data_loader.dataset), accuracy))\n",
    "    return loss, accuracy"
   ]
  },
  {
   "cell_type": "code",
   "execution_count": 15,
   "metadata": {},
   "outputs": [],
   "source": [
    "train_losses , train_accuracy = [],[]\n",
    "val_losses , val_accuracy = [],[]"
   ]
  },
  {
   "cell_type": "code",
   "execution_count": 16,
   "metadata": {
    "scrolled": false
   },
   "outputs": [
    {
     "name": "stdout",
     "output_type": "stream",
     "text": [
      "[*] epoch :  1\n"
     ]
    },
    {
     "name": "stderr",
     "output_type": "stream",
     "text": [
      "/usr/local/lib/python3.5/dist-packages/torch/nn/functional.py:52: UserWarning: size_average and reduce args will be deprecated, please use reduction='sum' instead.\n",
      "  warnings.warn(warning.format(ret))\n",
      "/usr/local/lib/python3.5/dist-packages/ipykernel_launcher.py:18: UserWarning: invalid index of a 0-dim tensor. This will be an error in PyTorch 0.5. Use tensor.item() to convert a 0-dim tensor to a Python number\n"
     ]
    },
    {
     "name": "stdout",
     "output_type": "stream",
     "text": [
      "training loss is 0.6038708090782166 and training accuracy is 48641/60000 accuarcy is 81.06833333333333\n",
      "validation loss is 0.1602570116519928 and validation accuracy is 9526/10000 accuarcy is 95.26\n",
      "[*] epoch :  2\n",
      "training loss is 0.2149556428194046 and training accuracy is 56255/60000 accuarcy is 93.75833333333334\n",
      "validation loss is 0.09653084725141525 and validation accuracy is 9697/10000 accuarcy is 96.97\n",
      "[*] epoch :  3\n",
      "training loss is 0.1625288873910904 and training accuracy is 57123/60000 accuarcy is 95.205\n",
      "validation loss is 0.08118181675672531 and validation accuracy is 9751/10000 accuarcy is 97.51\n",
      "[*] epoch :  4\n",
      "training loss is 0.13531912863254547 and training accuracy is 57602/60000 accuarcy is 96.00333333333333\n",
      "validation loss is 0.06669854372739792 and validation accuracy is 9781/10000 accuarcy is 97.81\n",
      "[*] epoch :  5\n",
      "training loss is 0.12335552275180817 and training accuracy is 57803/60000 accuarcy is 96.33833333333334\n",
      "validation loss is 0.057314638048410416 and validation accuracy is 9817/10000 accuarcy is 98.17\n",
      "[*] epoch :  6\n",
      "training loss is 0.10757393389940262 and training accuracy is 58094/60000 accuarcy is 96.82333333333334\n",
      "validation loss is 0.062395308166742325 and validation accuracy is 9778/10000 accuarcy is 97.78\n",
      "[*] epoch :  7\n",
      "training loss is 0.1027732715010643 and training accuracy is 58132/60000 accuarcy is 96.88666666666667\n",
      "validation loss is 0.05050215125083923 and validation accuracy is 9832/10000 accuarcy is 98.32\n",
      "[*] epoch :  8\n",
      "training loss is 0.09404182434082031 and training accuracy is 58301/60000 accuarcy is 97.16833333333334\n",
      "validation loss is 0.0484919436275959 and validation accuracy is 9838/10000 accuarcy is 98.38\n",
      "[*] epoch :  9\n",
      "training loss is 0.08745476603507996 and training accuracy is 58420/60000 accuarcy is 97.36666666666666\n",
      "validation loss is 0.04499105364084244 and validation accuracy is 9856/10000 accuarcy is 98.56\n",
      "[*] epoch :  10\n",
      "training loss is 0.08368086814880371 and training accuracy is 58500/60000 accuarcy is 97.5\n",
      "validation loss is 0.041611116379499435 and validation accuracy is 9864/10000 accuarcy is 98.64\n",
      "[*] epoch :  11\n",
      "training loss is 0.07755647599697113 and training accuracy is 58607/60000 accuarcy is 97.67833333333333\n",
      "validation loss is 0.03764454647898674 and validation accuracy is 9876/10000 accuarcy is 98.76\n",
      "[*] epoch :  12\n",
      "training loss is 0.07353246212005615 and training accuracy is 58689/60000 accuarcy is 97.815\n",
      "validation loss is 0.04173421114683151 and validation accuracy is 9861/10000 accuarcy is 98.61\n",
      "[*] epoch :  13\n",
      "training loss is 0.07138746976852417 and training accuracy is 58695/60000 accuarcy is 97.825\n",
      "validation loss is 0.04159325733780861 and validation accuracy is 9858/10000 accuarcy is 98.58\n",
      "[*] epoch :  14\n",
      "training loss is 0.06861396133899689 and training accuracy is 58751/60000 accuarcy is 97.91833333333334\n",
      "validation loss is 0.03817883878946304 and validation accuracy is 9870/10000 accuarcy is 98.7\n",
      "[*] epoch :  15\n",
      "training loss is 0.06418425589799881 and training accuracy is 58808/60000 accuarcy is 98.01333333333334\n",
      "validation loss is 0.038690440356731415 and validation accuracy is 9874/10000 accuarcy is 98.74\n",
      "[*] epoch :  16\n",
      "training loss is 0.06277472525835037 and training accuracy is 58864/60000 accuarcy is 98.10666666666667\n",
      "validation loss is 0.03498226776719093 and validation accuracy is 9890/10000 accuarcy is 98.9\n",
      "[*] epoch :  17\n",
      "training loss is 0.06022049859166145 and training accuracy is 58935/60000 accuarcy is 98.225\n",
      "validation loss is 0.03632153943181038 and validation accuracy is 9875/10000 accuarcy is 98.75\n",
      "[*] epoch :  18\n",
      "training loss is 0.06116801127791405 and training accuracy is 58884/60000 accuarcy is 98.14\n",
      "validation loss is 0.03712077438831329 and validation accuracy is 9872/10000 accuarcy is 98.72\n",
      "[*] epoch :  19\n",
      "training loss is 0.05606083571910858 and training accuracy is 58952/60000 accuarcy is 98.25333333333333\n",
      "validation loss is 0.03287636488676071 and validation accuracy is 9887/10000 accuarcy is 98.87\n"
     ]
    }
   ],
   "source": [
    "for epoch in range(1, 20):\n",
    "    print(\"[*] epoch : \", epoch)\n",
    "    epoch_loss, epoch_accuracy = fit(epoch, model, train_loader, phase='training')\n",
    "    val_epoch_loss, val_epoch_accuracy = fit(epoch, model, test_loader, phase='validation')\n",
    "    train_losses.append(epoch_loss)\n",
    "    train_accuracy.append(epoch_accuracy)\n",
    "    val_losses.append(val_epoch_loss)\n",
    "    val_accuracy.append(val_epoch_accuracy)"
   ]
  },
  {
   "cell_type": "code",
   "execution_count": 17,
   "metadata": {
    "scrolled": true
   },
   "outputs": [
    {
     "data": {
      "text/plain": [
       "<matplotlib.legend.Legend at 0x7f2594416f98>"
      ]
     },
     "execution_count": 17,
     "metadata": {},
     "output_type": "execute_result"
    },
    {
     "data": {
      "image/png": "[encoded data removed]",
      "text/plain": [
       "<Figure size 432x288 with 1 Axes>"
      ]
     },
     "metadata": {
      "needs_background": "light"
     },
     "output_type": "display_data"
    }
   ],
   "source": [
    "plt.plot(range(1, len(train_losses)+1), train_losses, 'bo', label='trainig loss')\n",
    "plt.plot(range(1, len(val_losses)+1), val_losses, 'r', label='validation loss')\n",
    "plt.legend()"
   ]
  },
  {
   "cell_type": "code",
   "execution_count": 18,
   "metadata": {},
   "outputs": [
    {
     "data": {
      "text/plain": [
       "<matplotlib.legend.Legend at 0x7f25943da828>"
      ]
     },
     "execution_count": 18,
     "metadata": {},
     "output_type": "execute_result"
    },
    {
     "data": {
      "image/png": "[encoded data removed]",
      "text/plain": [
       "<Figure size 432x288 with 1 Axes>"
      ]
     },
     "metadata": {
      "needs_background": "light"
     },
     "output_type": "display_data"
    }
   ],
   "source": [
    "plt.plot(range(1, len(train_accuracy)+1), train_accuracy, 'bo',label='train accuracy')\n",
    "plt.plot(range(1, len(val_accuracy)+1), val_accuracy, 'r', label='val accuracy')\n",
    "plt.legend()"
   ]
  },
  {
   "cell_type": "code",
   "execution_count": null,
   "metadata": {},
   "outputs": [],
   "source": []
  }
 ],
 "metadata": {
  "kernelspec": {
   "display_name": "Python 3",
   "language": "python",
   "name": "python3"
  },
  "language_info": {
   "codemirror_mode": {
    "name": "ipython",
    "version": 3
   },
   "file_extension": ".py",
   "mimetype": "text/x-python",
   "name": "python",
   "nbconvert_exporter": "python",
   "pygments_lexer": "ipython3",
   "version": "3.5.2"
  }
 },
 "nbformat": 4,
 "nbformat_minor": 2
}

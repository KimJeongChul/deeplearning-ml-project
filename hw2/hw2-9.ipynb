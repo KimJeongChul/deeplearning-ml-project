{
 "cells": [
  {
   "cell_type": "code",
   "execution_count": 1,
   "metadata": {},
   "outputs": [],
   "source": [
    "import torch\n",
    "import torch.nn as nn\n",
    "import torch.nn.functional as F\n",
    "import torch.optim as optim\n",
    "from torchvision import datasets, transforms\n",
    "from torch.autograd import Variable\n",
    "import matplotlib.pyplot as plt\n",
    "%matplotlib inline"
   ]
  },
  {
   "cell_type": "code",
   "execution_count": 2,
   "metadata": {},
   "outputs": [],
   "source": [
    "transformation = transforms.Compose([transforms.ToTensor(), transforms.Normalize((0.1307, ), (0.3081, ))])"
   ]
  },
  {
   "cell_type": "code",
   "execution_count": 3,
   "metadata": {},
   "outputs": [],
   "source": [
    "train_dataset = datasets.MNIST('data/', train=True, transform=transformation, download=True)\n",
    "test_dataset = datasets.MNIST('data/', train=False, transform=transformation, download=True)"
   ]
  },
  {
   "cell_type": "code",
   "execution_count": 4,
   "metadata": {},
   "outputs": [],
   "source": [
    "train_loader = torch.utils.data.DataLoader(train_dataset, batch_size=32, shuffle=True)\n",
    "test_loader = torch.utils.data.DataLoader(test_dataset, batch_size=32, shuffle=True)"
   ]
  },
  {
   "cell_type": "code",
   "execution_count": 5,
   "metadata": {},
   "outputs": [],
   "source": [
    "sample_data = next(iter(train_loader))"
   ]
  },
  {
   "cell_type": "code",
   "execution_count": 6,
   "metadata": {},
   "outputs": [],
   "source": [
    "def plot_img(image):\n",
    "    image = image.numpy()[0]\n",
    "    mean = 0.1307\n",
    "    std = 0.3081\n",
    "    image = ((mean * image) + std)\n",
    "    plt.imshow(image, cmap='gray')"
   ]
  },
  {
   "cell_type": "code",
   "execution_count": 7,
   "metadata": {},
   "outputs": [
    {
     "data": {
      "image/png": "[encoded data removed]",
      "text/plain": [
       "<Figure size 432x288 with 1 Axes>"
      ]
     },
     "metadata": {
      "needs_background": "light"
     },
     "output_type": "display_data"
    }
   ],
   "source": [
    "plot_img(sample_data[0][2])"
   ]
  },
  {
   "cell_type": "code",
   "execution_count": 8,
   "metadata": {},
   "outputs": [
    {
     "data": {
      "image/png": "[encoded data removed]",
      "text/plain": [
       "<Figure size 432x288 with 1 Axes>"
      ]
     },
     "metadata": {
      "needs_background": "light"
     },
     "output_type": "display_data"
    }
   ],
   "source": [
    "plot_img(sample_data[0][1])"
   ]
  },
  {
   "cell_type": "code",
   "execution_count": 9,
   "metadata": {},
   "outputs": [],
   "source": [
    "class Net(nn.Module):\n",
    "    def __init__(self):\n",
    "        super().__init__()\n",
    "        self.conv1 = nn.Conv2d(1, 10, kernel_size=5)\n",
    "        self.conv2 = nn.Conv2d(10, 20, kernel_size=5)\n",
    "        self.conv2_drop = nn.Dropout2d()\n",
    "        self.fc1 = nn.Linear(320, 50)\n",
    "        self.fc2 = nn.Linear(50, 10)\n",
    "        \n",
    "    def forward(self, x):\n",
    "        x = F.relu(F.max_pool2d(self.conv1(x), 2))\n",
    "        x = F.relu(F.max_pool2d(self.conv2_drop(self.conv2(x)), 2))\n",
    "        x = x.view(-1, 320)\n",
    "        x = F.relu(self.fc1(x))\n",
    "        x = F.dropout(x, p=0.1)\n",
    "        x = self.fc2(x)\n",
    "        return F.log_softmax(x, dim=1)"
   ]
  },
  {
   "cell_type": "code",
   "execution_count": 10,
   "metadata": {},
   "outputs": [],
   "source": [
    "model = Net()"
   ]
  },
  {
   "cell_type": "code",
   "execution_count": 11,
   "metadata": {},
   "outputs": [],
   "source": [
    "optimizer = optim.SGD(model.parameters(), lr=0.01)\n",
    "data, target = next(iter(train_loader))\n",
    "output = model(Variable(data))"
   ]
  },
  {
   "cell_type": "code",
   "execution_count": 12,
   "metadata": {},
   "outputs": [
    {
     "name": "stdout",
     "output_type": "stream",
     "text": [
      "torch.Size([32, 10])\n"
     ]
    }
   ],
   "source": [
    "print(output.size())"
   ]
  },
  {
   "cell_type": "code",
   "execution_count": 13,
   "metadata": {},
   "outputs": [
    {
     "name": "stdout",
     "output_type": "stream",
     "text": [
      "torch.Size([32])\n"
     ]
    }
   ],
   "source": [
    "print(target.size())"
   ]
  },
  {
   "cell_type": "code",
   "execution_count": 14,
   "metadata": {},
   "outputs": [],
   "source": [
    "def fit(epoch,model,data_loader,phase='training',volatile=False):\n",
    "    if phase == 'training':\n",
    "        model.train()\n",
    "    if phase == 'validation':\n",
    "        model.eval()\n",
    "        volatile=True\n",
    "        \n",
    "    running_loss=0.0\n",
    "    running_correct =0\n",
    "    \n",
    "    for batch_idx , (data,target) in enumerate(data_loader):\n",
    "        data , target = Variable(data, volatile), Variable(target)\n",
    "        if phase == 'training':\n",
    "            optimizer.zero_grad()\n",
    "        output = model(data)\n",
    "        loss =F.nll_loss(output,target)\n",
    "        \n",
    "        running_loss += F.nll_loss(output, target, size_average=False).data[0]\n",
    "        preds = output.data.max(dim=1, keepdim=True)[1]\n",
    "        running_correct += preds.eq(target.data.view_as(preds)).cpu().sum()\n",
    "        \n",
    "        if phase =='training':\n",
    "            loss.backward()\n",
    "            optimizer.step()\n",
    "            \n",
    "        loss = running_loss/len(data_loader.dataset)\n",
    "        accuracy = 100 * float(running_correct)/len(data_loader.dataset)\n",
    "        print('{0} loss is {1} and {2} accuracy is {3}/{4} accuarcy is {5}'.format(phase, loss, phase, running_correct, len(data_loader.dataset), accuracy))\n",
    "        return loss, accuracy"
   ]
  },
  {
   "cell_type": "code",
   "execution_count": 15,
   "metadata": {},
   "outputs": [],
   "source": [
    "train_losses , train_accuracy = [],[]\n",
    "val_losses , val_accuracy = [],[]"
   ]
  },
  {
   "cell_type": "code",
   "execution_count": 16,
   "metadata": {
    "scrolled": true
   },
   "outputs": [
    {
     "name": "stdout",
     "output_type": "stream",
     "text": [
      "[*] epoch :  1\n",
      "training loss is 0.0012335092760622501 and training accuracy is 0/60000 accuarcy is 0.0\n",
      "validation loss is 0.0074239266104996204 and validation accuracy is 2/10000 accuarcy is 0.02\n",
      "[*] epoch :  2\n",
      "training loss is 0.0012444022577255964 and training accuracy is 3/60000 accuarcy is 0.005\n",
      "validation loss is 0.007366420701146126 and validation accuracy is 5/10000 accuarcy is 0.05\n",
      "[*] epoch :  3\n",
      "training loss is 0.0012175922747701406 and training accuracy is 5/60000 accuarcy is 0.008333333333333333\n",
      "validation loss is 0.00732074910774827 and validation accuracy is 5/10000 accuarcy is 0.05\n",
      "[*] epoch :  4\n",
      "training loss is 0.0012344022979959846 and training accuracy is 3/60000 accuarcy is 0.005\n",
      "validation loss is 0.007343801204115152 and validation accuracy is 6/10000 accuarcy is 0.06\n",
      "[*] epoch :  5\n",
      "training loss is 0.0012160262558609247 and training accuracy is 6/60000 accuarcy is 0.01\n",
      "validation loss is 0.007346543949097395 and validation accuracy is 5/10000 accuarcy is 0.05\n",
      "[*] epoch :  6\n",
      "training loss is 0.0012359495740383863 and training accuracy is 2/60000 accuarcy is 0.0033333333333333335\n",
      "validation loss is 0.007270273752510548 and validation accuracy is 4/10000 accuarcy is 0.04\n",
      "[*] epoch :  7\n",
      "training loss is 0.0012304788688197732 and training accuracy is 2/60000 accuarcy is 0.0033333333333333335\n",
      "validation loss is 0.007412572391331196 and validation accuracy is 2/10000 accuarcy is 0.02\n",
      "[*] epoch :  8\n",
      "training loss is 0.001234574941918254 and training accuracy is 1/60000 accuarcy is 0.0016666666666666668\n",
      "validation loss is 0.00732318963855505 and validation accuracy is 6/10000 accuarcy is 0.06\n",
      "[*] epoch :  9\n",
      "training loss is 0.0012236839393153787 and training accuracy is 2/60000 accuarcy is 0.0033333333333333335\n"
     ]
    },
    {
     "name": "stderr",
     "output_type": "stream",
     "text": [
      "/usr/local/lib/python3.5/dist-packages/torch/nn/functional.py:52: UserWarning: size_average and reduce args will be deprecated, please use reduction='sum' instead.\n",
      "  warnings.warn(warning.format(ret))\n",
      "/usr/local/lib/python3.5/dist-packages/ipykernel_launcher.py:18: UserWarning: invalid index of a 0-dim tensor. This will be an error in PyTorch 0.5. Use tensor.item() to convert a 0-dim tensor to a Python number\n"
     ]
    },
    {
     "name": "stdout",
     "output_type": "stream",
     "text": [
      "validation loss is 0.00735298078507185 and validation accuracy is 3/10000 accuarcy is 0.03\n",
      "[*] epoch :  10\n",
      "training loss is 0.0012213741429150105 and training accuracy is 3/60000 accuarcy is 0.005\n",
      "validation loss is 0.00734635628759861 and validation accuracy is 3/10000 accuarcy is 0.03\n",
      "[*] epoch :  11\n",
      "training loss is 0.0012239469215273857 and training accuracy is 3/60000 accuarcy is 0.005\n",
      "validation loss is 0.007280838210135698 and validation accuracy is 5/10000 accuarcy is 0.05\n",
      "[*] epoch :  12\n",
      "training loss is 0.001220988342538476 and training accuracy is 6/60000 accuarcy is 0.01\n",
      "validation loss is 0.0073005761951208115 and validation accuracy is 5/10000 accuarcy is 0.05\n",
      "[*] epoch :  13\n",
      "training loss is 0.0012278989888727665 and training accuracy is 2/60000 accuarcy is 0.0033333333333333335\n",
      "validation loss is 0.007235996425151825 and validation accuracy is 9/10000 accuarcy is 0.09\n",
      "[*] epoch :  14\n",
      "training loss is 0.0012345528230071068 and training accuracy is 2/60000 accuarcy is 0.0033333333333333335\n",
      "validation loss is 0.007300924509763718 and validation accuracy is 5/10000 accuarcy is 0.05\n",
      "[*] epoch :  15\n",
      "training loss is 0.0012234110618010163 and training accuracy is 6/60000 accuarcy is 0.01\n",
      "validation loss is 0.007337336894124746 and validation accuracy is 3/10000 accuarcy is 0.03\n",
      "[*] epoch :  16\n",
      "training loss is 0.0012172175338491797 and training accuracy is 8/60000 accuarcy is 0.013333333333333334\n",
      "validation loss is 0.007253657560795546 and validation accuracy is 4/10000 accuarcy is 0.04\n",
      "[*] epoch :  17\n",
      "training loss is 0.0012171064736321568 and training accuracy is 5/60000 accuarcy is 0.008333333333333333\n",
      "validation loss is 0.007334986235946417 and validation accuracy is 4/10000 accuarcy is 0.04\n",
      "[*] epoch :  18\n",
      "training loss is 0.0012290921295061707 and training accuracy is 4/60000 accuarcy is 0.006666666666666667\n",
      "validation loss is 0.007236473262310028 and validation accuracy is 7/10000 accuarcy is 0.07\n",
      "[*] epoch :  19\n",
      "training loss is 0.0012129120295867324 and training accuracy is 4/60000 accuarcy is 0.006666666666666667\n",
      "validation loss is 0.00724133150652051 and validation accuracy is 7/10000 accuarcy is 0.07\n"
     ]
    }
   ],
   "source": [
    "for epoch in range(1, 20):\n",
    "    print(\"[*] epoch : \", epoch)\n",
    "    epoch_loss, epoch_accuracy = fit(epoch, model, train_loader, phase='training')\n",
    "    val_epoch_loss, val_epoch_accuracy = fit(epoch, model, test_loader, phase='validation')\n",
    "    train_losses.append(epoch_loss)\n",
    "    train_accuracy.append(epoch_accuracy)\n",
    "    val_losses.append(val_epoch_loss)\n",
    "    val_accuracy.append(val_epoch_accuracy)"
   ]
  },
  {
   "cell_type": "code",
   "execution_count": 17,
   "metadata": {
    "scrolled": true
   },
   "outputs": [
    {
     "data": {
      "text/plain": [
       "<matplotlib.legend.Legend at 0x7fca99de8198>"
      ]
     },
     "execution_count": 17,
     "metadata": {},
     "output_type": "execute_result"
    },
    {
     "data": {
      "image/png": "[encoded data removed]",
      "text/plain": [
       "<Figure size 432x288 with 1 Axes>"
      ]
     },
     "metadata": {
      "needs_background": "light"
     },
     "output_type": "display_data"
    }
   ],
   "source": [
    "plt.plot(range(1, len(train_losses)+1), train_losses, 'bo', label='trainig loss')\n",
    "plt.plot(range(1, len(val_losses)+1), val_losses, 'r', label='validation loss')\n",
    "plt.legend()"
   ]
  },
  {
   "cell_type": "code",
   "execution_count": 18,
   "metadata": {},
   "outputs": [
    {
     "data": {
      "text/plain": [
       "<matplotlib.legend.Legend at 0x7fca9bdb3d68>"
      ]
     },
     "execution_count": 18,
     "metadata": {},
     "output_type": "execute_result"
    },
    {
     "data": {
      "image/png": "[encoded data removed]",
      "text/plain": [
       "<Figure size 432x288 with 1 Axes>"
      ]
     },
     "metadata": {
      "needs_background": "light"
     },
     "output_type": "display_data"
    }
   ],
   "source": [
    "plt.plot(range(1, len(train_accuracy)+1), train_accuracy, 'bo',label='train accuracy')\n",
    "plt.plot(range(1, len(val_accuracy)+1), val_accuracy, 'r', label='val accuracy')\n",
    "plt.legend()"
   ]
  },
  {
   "cell_type": "code",
   "execution_count": null,
   "metadata": {},
   "outputs": [],
   "source": []
  }
 ],
 "metadata": {
  "kernelspec": {
   "display_name": "Python 3",
   "language": "python",
   "name": "python3"
  },
  "language_info": {
   "codemirror_mode": {
    "name": "ipython",
    "version": 3
   },
   "file_extension": ".py",
   "mimetype": "text/x-python",
   "name": "python",
   "nbconvert_exporter": "python",
   "pygments_lexer": "ipython3",
   "version": "3.5.2"
  }
 },
 "nbformat": 4,
 "nbformat_minor": 2
}

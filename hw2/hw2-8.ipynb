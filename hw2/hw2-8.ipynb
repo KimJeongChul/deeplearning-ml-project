{
 "cells": [
  {
   "cell_type": "markdown",
   "metadata": {},
   "source": [
    "# Data Pre-Processing"
   ]
  },
  {
   "cell_type": "code",
   "execution_count": 1,
   "metadata": {},
   "outputs": [],
   "source": [
    "import torch\n",
    "from torch.utils.data import TensorDataset, DataLoader\n",
    "import matplotlib.pyplot as plt\n",
    "%matplotlib inline"
   ]
  },
  {
   "cell_type": "code",
   "execution_count": 2,
   "metadata": {},
   "outputs": [],
   "source": [
    "N, D_in, H, D_out = 64, 1000, 100, 10"
   ]
  },
  {
   "cell_type": "code",
   "execution_count": 3,
   "metadata": {},
   "outputs": [],
   "source": [
    "x = torch.randn(N, D_in)\n",
    "y = torch.randn(N, D_out)"
   ]
  },
  {
   "cell_type": "code",
   "execution_count": 4,
   "metadata": {},
   "outputs": [],
   "source": [
    "class TwoLayerNet(torch.nn.Module):\n",
    "    def __init__(self, D_in, H, D_out):\n",
    "        super(TwoLayerNet, self).__init__()\n",
    "        self.linear1 = torch.nn.Linear(D_in, H)\n",
    "        self.linear2 = torch.nn.Linear(H, D_out)\n",
    "        \n",
    "    def forward(self, x):\n",
    "        h_relu = self.linear1(x).clamp(min = 0)\n",
    "        y_pred = self.linear2(h_relu)\n",
    "        return y_pred"
   ]
  },
  {
   "cell_type": "code",
   "execution_count": 5,
   "metadata": {},
   "outputs": [],
   "source": [
    "x_list = []\n",
    "loss_list = []"
   ]
  },
  {
   "cell_type": "markdown",
   "metadata": {},
   "source": [
    " - torch.utils.data.TensorDataset() : Dataset wrapping tensors.\n",
    " - torch.utils.data.DataLoader(dataset, batchsize) : Data loader. Combines a dataset and a sampler, and provides single- or multi-process iterators over the dataset. "
   ]
  },
  {
   "cell_type": "code",
   "execution_count": 6,
   "metadata": {},
   "outputs": [
    {
     "name": "stdout",
     "output_type": "stream",
     "text": [
      "[*] epoch :  0  loss :  1.1286710500717163\n",
      "[*] epoch :  1  loss :  1.037499189376831\n",
      "[*] epoch :  2  loss :  0.9596284627914429\n",
      "[*] epoch :  3  loss :  0.8920494318008423\n",
      "[*] epoch :  4  loss :  0.8312233090400696\n",
      "[*] epoch :  5  loss :  0.7753127813339233\n",
      "[*] epoch :  6  loss :  0.7239062190055847\n",
      "[*] epoch :  7  loss :  0.6766200065612793\n",
      "[*] epoch :  8  loss :  0.631830096244812\n",
      "[*] epoch :  9  loss :  0.5901836156845093\n",
      "[*] epoch :  10  loss :  0.5518006086349487\n",
      "[*] epoch :  11  loss :  0.5160019993782043\n",
      "[*] epoch :  12  loss :  0.48300701379776\n",
      "[*] epoch :  13  loss :  0.4517921805381775\n",
      "[*] epoch :  14  loss :  0.4222900867462158\n",
      "[*] epoch :  15  loss :  0.3946676552295685\n",
      "[*] epoch :  16  loss :  0.3684128224849701\n",
      "[*] epoch :  17  loss :  0.3432537019252777\n",
      "[*] epoch :  18  loss :  0.3195236921310425\n",
      "[*] epoch :  19  loss :  0.2965633273124695\n"
     ]
    }
   ],
   "source": [
    "loader = DataLoader(TensorDataset(x, y), batch_size = 8)\n",
    "model = TwoLayerNet(D_in, H, D_out)\n",
    "\n",
    "optimizer = torch.optim.SGD(model.parameters(), lr=1e-2)\n",
    "\n",
    "for epoch in range(20):\n",
    "    for x_batch, y_batch in loader:\n",
    "        y_pred = model(x_batch)\n",
    "        loss = torch.nn.functional.mse_loss(y_pred, y_batch)\n",
    "        \n",
    "        loss.backward()\n",
    "        optimizer.step()\n",
    "        optimizer.zero_grad()\n",
    "        \n",
    "    print(\"[*] epoch : \", epoch, \" loss : \", loss.item())\n",
    "    x_list.append(epoch)\n",
    "    loss_list.append(loss.item())"
   ]
  },
  {
   "cell_type": "code",
   "execution_count": 7,
   "metadata": {},
   "outputs": [
    {
     "data": {
      "image/png": "[encoded data removed]",
      "text/plain": [
       "<Figure size 432x288 with 1 Axes>"
      ]
     },
     "metadata": {
      "needs_background": "light"
     },
     "output_type": "display_data"
    }
   ],
   "source": [
    "plt.plot(x_list, loss_list, \"k-\", linewidth=2, label=\"loss\")\n",
    "plt.show()"
   ]
  },
  {
   "cell_type": "code",
   "execution_count": null,
   "metadata": {},
   "outputs": [],
   "source": []
  }
 ],
 "metadata": {
  "kernelspec": {
   "display_name": "Python 3",
   "language": "python",
   "name": "python3"
  },
  "language_info": {
   "codemirror_mode": {
    "name": "ipython",
    "version": 3
   },
   "file_extension": ".py",
   "mimetype": "text/x-python",
   "name": "python",
   "nbconvert_exporter": "python",
   "pygments_lexer": "ipython3",
   "version": "3.5.2"
  }
 },
 "nbformat": 4,
 "nbformat_minor": 2
}

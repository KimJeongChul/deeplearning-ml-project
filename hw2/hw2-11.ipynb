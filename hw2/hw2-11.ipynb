{
 "cells": [
  {
   "cell_type": "code",
   "execution_count": 1,
   "metadata": {},
   "outputs": [],
   "source": [
    "import torch"
   ]
  },
  {
   "cell_type": "code",
   "execution_count": 2,
   "metadata": {},
   "outputs": [],
   "source": [
    "class Sigmoid(torch.nn.Module):\n",
    "   def __init__(self):\n",
    "       super(Sigmoid, self).__init__()\n",
    "       self.U_1 = torch.tensor([[-0.3, 1.0, 1.2], [1.6, -1.0, -1.1]])\n",
    "       self.U_2 = torch.tensor([[1.0, 1.0, -1.0], [0.7, 0.5, 1.0]])\n",
    "       self.U_3 = torch.tensor([[0.5, -0.8, 1.0], [-0.1, 0.3, 0.4]])\n",
    "       self.U_4 = torch.tensor([[1.0, 0.1, -0.2], [-0.2, 1.3, -0.4]])\n",
    "\n",
    "   def forward(self, x):\n",
    "       sigmoid = torch.nn.Sigmoid()\n",
    "       h1 = torch.mm(x, self.U_1.t())\n",
    "       a1 = sigmoid(h1)\n",
    "       a1 = torch.tensor([[1, a1[0][0], a1[0][1]]])\n",
    "       h2 = torch.mm(a1, self.U_2.t())\n",
    "       a2 = sigmoid(h2)\n",
    "       a2 = torch.tensor([[1, a2[0][0], a2[0][1]]])\n",
    "       h3 = torch.mm(a2, self.U_3.t())\n",
    "       a3 = sigmoid(h3)\n",
    "       a3 = torch.tensor([[1, a3[0][0], a3[0][1]]])\n",
    "       h4 = torch.mm(a3, self.U_4.t())\n",
    "       a4 = sigmoid(h4)\n",
    "       return a4"
   ]
  },
  {
   "cell_type": "code",
   "execution_count": 3,
   "metadata": {},
   "outputs": [
    {
     "name": "stdout",
     "output_type": "stream",
     "text": [
      "tensor([[0.7202, 0.6081]])\n"
     ]
    }
   ],
   "source": [
    "output = Sigmoid().forward(torch.tensor([[1.0, 1.0, 0.0]]))\n",
    "print(output)"
   ]
  },
  {
   "cell_type": "code",
   "execution_count": 4,
   "metadata": {},
   "outputs": [],
   "source": [
    "class LogisticSigmoid(torch.nn.Module):\n",
    "   def __init__(self):\n",
    "       super(LogisticSigmoid, self).__init__()\n",
    "       self.U_1 = torch.tensor([[-0.3, 1.0, 1.2], [1.6, -1.0, -1.1]])\n",
    "       self.U_2 = torch.tensor([[1.0, 1.0, -1.0], [0.7, 0.5, 1.0]])\n",
    "       self.U_3 = torch.tensor([[0.5, -0.8, 1.0], [-0.1, 0.3, 0.4]])\n",
    "       self.U_4 = torch.tensor([[1.0, 0.1, -0.2], [-0.2, 1.3, -0.4]])\n",
    "\n",
    "   def forward(self, x):\n",
    "       log_sigmoid = torch.nn.LogSigmoid()\n",
    "       h1 = torch.mm(x, self.U_1.t())\n",
    "       a1 = log_sigmoid(h1)\n",
    "       a1 = torch.tensor([[1, a1[0][0], a1[0][1]]])\n",
    "       h2 = torch.mm(a1, self.U_2.t())\n",
    "       a2 = log_sigmoid(h2)\n",
    "       a2 = torch.tensor([[1, a2[0][0], a2[0][1]]])\n",
    "       h3 = torch.mm(a2, self.U_3.t())\n",
    "       a3 = log_sigmoid(h3)\n",
    "       a3 = torch.tensor([[1, a3[0][0], a3[0][1]]])\n",
    "       h4 = torch.mm(a3, self.U_4.t())\n",
    "       a4 = log_sigmoid(h4)\n",
    "       return a4"
   ]
  },
  {
   "cell_type": "code",
   "execution_count": 5,
   "metadata": {},
   "outputs": [
    {
     "name": "stdout",
     "output_type": "stream",
     "text": [
      "tensor([[-0.2814, -1.0840]])\n"
     ]
    }
   ],
   "source": [
    "output = LogisticSigmoid().forward(torch.tensor([[1.0, 1.0, 0.0]]))\n",
    "print(output)"
   ]
  },
  {
   "cell_type": "code",
   "execution_count": 6,
   "metadata": {},
   "outputs": [],
   "source": [
    "true = torch.tensor([[0.0, 1.0]])"
   ]
  },
  {
   "cell_type": "code",
   "execution_count": 7,
   "metadata": {},
   "outputs": [
    {
     "name": "stdout",
     "output_type": "stream",
     "text": [
      "tensor(2.2111)\n"
     ]
    }
   ],
   "source": [
    "loss = torch.nn.functional.mse_loss(output, true)\n",
    "print(loss)"
   ]
  },
  {
   "cell_type": "code",
   "execution_count": 8,
   "metadata": {},
   "outputs": [],
   "source": [
    "class LogisticSigmoid(torch.nn.Module):\n",
    "   def __init__(self):\n",
    "       super(LogisticSigmoid, self).__init__()\n",
    "       self.U_1 = torch.tensor([[-0.3, 1.0, 1.2], [1.6, -1.0, -1.1]])\n",
    "       self.U_2 = torch.tensor([[1.0, 1.0, -1.0], [0.7, 0.5, 1.0]])\n",
    "       self.U_3 = torch.tensor([[0.5, -0.8, 0.9], [-0.1, 0.3, 0.4]])\n",
    "       self.U_4 = torch.tensor([[1.0, 0.1, -0.2], [-0.2, 1.3, -0.4]])\n",
    "\n",
    "   def forward(self, x):\n",
    "       log_sigmoid = torch.nn.LogSigmoid()\n",
    "       h1 = torch.mm(x, self.U_1.t())\n",
    "       a1 = log_sigmoid(h1)\n",
    "       a1 = torch.tensor([[1, a1[0][0], a1[0][1]]])\n",
    "       h2 = torch.mm(a1, self.U_2.t())\n",
    "       a2 = log_sigmoid(h2)\n",
    "       a2 = torch.tensor([[1, a2[0][0], a2[0][1]]])\n",
    "       h3 = torch.mm(a2, self.U_3.t())\n",
    "       a3 = log_sigmoid(h3)\n",
    "       a3 = torch.tensor([[1, a3[0][0], a3[0][1]]])\n",
    "       h4 = torch.mm(a3, self.U_4.t())\n",
    "       a4 = log_sigmoid(h4)\n",
    "       return a4"
   ]
  },
  {
   "cell_type": "code",
   "execution_count": 9,
   "metadata": {},
   "outputs": [
    {
     "name": "stdout",
     "output_type": "stream",
     "text": [
      "tensor([[-0.2806, -1.0573]])\n"
     ]
    }
   ],
   "source": [
    "output = LogisticSigmoid().forward(torch.tensor([[1.0, 1.0, 0.0]]))\n",
    "print(output)"
   ]
  },
  {
   "cell_type": "code",
   "execution_count": 10,
   "metadata": {},
   "outputs": [
    {
     "name": "stdout",
     "output_type": "stream",
     "text": [
      "tensor(2.1555)\n"
     ]
    }
   ],
   "source": [
    "loss = torch.nn.functional.mse_loss(output, true)\n",
    "print(loss)"
   ]
  },
  {
   "cell_type": "code",
   "execution_count": 11,
   "metadata": {},
   "outputs": [],
   "source": [
    "class ReLU(torch.nn.Module):\n",
    "   def __init__(self):\n",
    "       super(ReLU, self).__init__()\n",
    "       self.U_1 = torch.tensor([[-0.3, 1.0, 1.2], [1.6, -1.0, -1.1]])\n",
    "       self.U_2 = torch.tensor([[1.0, 1.0, -1.0], [0.7, 0.5, 1.0]])\n",
    "       self.U_3 = torch.tensor([[0.5, -0.8, 1.0], [-0.1, 0.3, 0.4]])\n",
    "       self.U_4 = torch.tensor([[1.0, 0.1, -0.2], [-0.2, 1.3, -0.4]])\n",
    "\n",
    "   def forward(self, x):\n",
    "       relu = torch.nn.ReLU()\n",
    "       h1 = torch.mm(x, self.U_1.t())\n",
    "       a1 = relu(h1)\n",
    "       a1 = torch.tensor([[1, a1[0][0], a1[0][1]]])\n",
    "       h2 = torch.mm(a1, self.U_2.t())\n",
    "       a2 = relu(h2)\n",
    "       a2 = torch.tensor([[1, a2[0][0], a2[0][1]]])\n",
    "       h3 = torch.mm(a2, self.U_3.t())\n",
    "       a3 = relu(h3)\n",
    "       a3 = torch.tensor([[1, a3[0][0], a3[0][1]]])\n",
    "       h4 = torch.mm(a3, self.U_4.t())\n",
    "       a4 = relu(h4)\n",
    "       return a4"
   ]
  },
  {
   "cell_type": "code",
   "execution_count": 12,
   "metadata": {},
   "outputs": [
    {
     "name": "stdout",
     "output_type": "stream",
     "text": [
      "tensor([[0.9490, 1.0950]])\n"
     ]
    }
   ],
   "source": [
    "output = ReLU().forward(torch.tensor([[1.0, 1.0, 0.0]]))\n",
    "print(output)"
   ]
  },
  {
   "cell_type": "code",
   "execution_count": null,
   "metadata": {},
   "outputs": [],
   "source": []
  },
  {
   "cell_type": "code",
   "execution_count": null,
   "metadata": {},
   "outputs": [],
   "source": []
  }
 ],
 "metadata": {
  "kernelspec": {
   "display_name": "Python 3",
   "language": "python",
   "name": "python3"
  },
  "language_info": {
   "codemirror_mode": {
    "name": "ipython",
    "version": 3
   },
   "file_extension": ".py",
   "mimetype": "text/x-python",
   "name": "python",
   "nbconvert_exporter": "python",
   "pygments_lexer": "ipython3",
   "version": "3.5.2"
  }
 },
 "nbformat": 4,
 "nbformat_minor": 2
}

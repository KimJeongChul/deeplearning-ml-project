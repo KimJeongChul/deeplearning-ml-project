{
 "cells": [
  {
   "cell_type": "code",
   "execution_count": 1,
   "metadata": {
    "collapsed": true
   },
   "outputs": [],
   "source": [
    "import numpy as np"
   ]
  },
  {
   "cell_type": "code",
   "execution_count": 2,
   "metadata": {
    "collapsed": true
   },
   "outputs": [],
   "source": [
    "arrayA = [[1, -2, 3, 5], [2, 2, -1, 0], [3, 0, 1, 2], [1, 0, 2, 0]]"
   ]
  },
  {
   "cell_type": "code",
   "execution_count": 3,
   "metadata": {},
   "outputs": [],
   "source": [
    "A = np.asarray(arrayA)"
   ]
  },
  {
   "cell_type": "code",
   "execution_count": 5,
   "metadata": {},
   "outputs": [
    {
     "name": "stdout",
     "output_type": "stream",
     "text": [
      "[[ 2 -4  6 10]\n",
      " [ 4  4 -2  0]\n",
      " [ 6  0  2  4]\n",
      " [ 2  0  4  0]]\n"
     ]
    }
   ],
   "source": [
    "print(2*A)"
   ]
  },
  {
   "cell_type": "markdown",
   "metadata": {},
   "source": [
    "Matrix Transpose"
   ]
  },
  {
   "cell_type": "code",
   "execution_count": 6,
   "metadata": {},
   "outputs": [
    {
     "name": "stdout",
     "output_type": "stream",
     "text": [
      "[[ 1  2  3  1]\n",
      " [-2  2  0  0]\n",
      " [ 3 -1  1  2]\n",
      " [ 5  0  2  0]]\n"
     ]
    }
   ],
   "source": [
    "print(A.T)"
   ]
  },
  {
   "cell_type": "markdown",
   "metadata": {},
   "source": [
    "Inverse Matrix "
   ]
  },
  {
   "cell_type": "code",
   "execution_count": 7,
   "metadata": {},
   "outputs": [
    {
     "name": "stdout",
     "output_type": "stream",
     "text": [
      "[[-0.23529412 -0.23529412  0.58823529 -0.05882353]\n",
      " [ 0.29411765  0.79411765 -0.73529412  0.32352941]\n",
      " [ 0.11764706  0.11764706 -0.29411765  0.52941176]\n",
      " [ 0.29411765  0.29411765 -0.23529412 -0.17647059]]\n"
     ]
    }
   ],
   "source": [
    "print(np.linalg.inv(A))"
   ]
  },
  {
   "cell_type": "markdown",
   "metadata": {},
   "source": [
    "Matrix Rank"
   ]
  },
  {
   "cell_type": "code",
   "execution_count": 8,
   "metadata": {},
   "outputs": [
    {
     "name": "stdout",
     "output_type": "stream",
     "text": [
      "4\n"
     ]
    }
   ],
   "source": [
    "print(np.linalg.matrix_rank(A))"
   ]
  },
  {
   "cell_type": "markdown",
   "metadata": {},
   "source": [
    "Matrix Determinant"
   ]
  },
  {
   "cell_type": "code",
   "execution_count": 9,
   "metadata": {},
   "outputs": [
    {
     "name": "stdout",
     "output_type": "stream",
     "text": [
      "34.00000000000001\n"
     ]
    }
   ],
   "source": [
    "print(np.linalg.det(A))"
   ]
  },
  {
   "cell_type": "markdown",
   "metadata": {},
   "source": [
    "Matrix EigenVector"
   ]
  },
  {
   "cell_type": "code",
   "execution_count": 13,
   "metadata": {},
   "outputs": [
    {
     "data": {
      "text/plain": [
       "(array([ 5.52552524+0.j        , -1.52204833+1.31733645j,\n",
       "        -1.52204833-1.31733645j,  1.51857142+0.j        ]),\n",
       " array([[-0.68465996+0.j        ,  0.619935  +0.j        ,\n",
       "          0.619935  -0.j        ,  0.11199539+0.j        ],\n",
       "        [-0.21666012+0.j        , -0.34875983-0.24694874j,\n",
       "         -0.34875983+0.24694874j, -0.93998928+0.j        ],\n",
       "        [-0.60547918+0.j        , -0.31379356-0.41033136j,\n",
       "         -0.31379356+0.41033136j, -0.22854692+0.j        ],\n",
       "        [-0.34306572+0.j        , -0.263929  +0.31075191j,\n",
       "         -0.263929  -0.31075191j, -0.22725204+0.j        ]]))"
      ]
     },
     "execution_count": 13,
     "metadata": {},
     "output_type": "execute_result"
    }
   ],
   "source": [
    "np.linalg.eig(A)"
   ]
  },
  {
   "cell_type": "code",
   "execution_count": 14,
   "metadata": {},
   "outputs": [
    {
     "data": {
      "text/plain": [
       "(array([[-0.8819521 ,  0.25706354, -0.24178316, -0.31244156],\n",
       "        [ 0.05743106, -0.76320224, -0.26028922, -0.58862003],\n",
       "        [-0.42722253, -0.58124436,  0.04756433,  0.69092224],\n",
       "        [-0.19063859, -0.11660051,  0.93355667, -0.28023773]]),\n",
       " array([6.97059301, 3.8068416 , 1.85521105, 0.69063894]),\n",
       " array([[-0.32126336,  0.26952747, -0.50380033, -0.75520197],\n",
       "        [-0.8221184 , -0.53601693,  0.18911937,  0.03226532],\n",
       "        [ 0.16919264, -0.01995035,  0.78137601, -0.60035603],\n",
       "        [ 0.43850318, -0.7997767 , -0.31602313, -0.2611543 ]]))"
      ]
     },
     "execution_count": 14,
     "metadata": {},
     "output_type": "execute_result"
    }
   ],
   "source": [
    "np.linalg.svd(A)"
   ]
  },
  {
   "cell_type": "code",
   "execution_count": null,
   "metadata": {
    "collapsed": true
   },
   "outputs": [],
   "source": []
  }
 ],
 "metadata": {
  "kernelspec": {
   "display_name": "Python 3",
   "language": "python",
   "name": "python3"
  },
  "language_info": {
   "codemirror_mode": {
    "name": "ipython",
    "version": 3
   },
   "file_extension": ".py",
   "mimetype": "text/x-python",
   "name": "python",
   "nbconvert_exporter": "python",
   "pygments_lexer": "ipython3",
   "version": "3.5.2"
  }
 },
 "nbformat": 4,
 "nbformat_minor": 2
}
